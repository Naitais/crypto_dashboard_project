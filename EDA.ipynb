{
 "cells": [
  {
   "cell_type": "code",
   "execution_count": null,
   "metadata": {},
   "outputs": [],
   "source": [
    "import json\n",
    "import pandas as pd\n",
    "import numpy as np\n",
    "import matplotlib as plt\n",
    "from pycoingecko import CoinGeckoAPI\n",
    "\n",
    "cg = CoinGeckoAPI()\n",
    "pd.options.display.float_format = '{:.2f}'.format \n",
    "\n",
    "df = pd.read_json(r'dataset\\response_1692132599095.json', dtype='unicode')"
   ]
  },
  {
   "cell_type": "code",
   "execution_count": null,
   "metadata": {},
   "outputs": [],
   "source": [
    "#testeo si funciona la conexion con la api\n",
    "cg.ping()"
   ]
  },
  {
   "cell_type": "code",
   "execution_count": null,
   "metadata": {},
   "outputs": [],
   "source": [
    "df.columns"
   ]
  },
  {
   "cell_type": "code",
   "execution_count": null,
   "metadata": {},
   "outputs": [],
   "source": [
    "crypto_lista = cg.get_coins_list()\n",
    "df_cryptos= pd.DataFrame.from_dict(crypto_lista)\n",
    "\n",
    "df_cryptos"
   ]
  },
  {
   "cell_type": "code",
   "execution_count": null,
   "metadata": {},
   "outputs": [],
   "source": [
    "cryptos_categorias = pd.DataFrame(cg.get_coins_categories_list())\n",
    "cryptos_categorias"
   ]
  },
  {
   "cell_type": "code",
   "execution_count": null,
   "metadata": {},
   "outputs": [],
   "source": [
    "\n",
    "#considero que no voy a utilizar estas columnas:\n",
    "df.drop(columns=['image','last_updated', 'roi', 'ath_date','atl_date',  'high_24h',\n",
    "                 'low_24h','price_change_24h','price_change_percentage_24h','market_cap_change_24h',\n",
    "                 'market_cap_change_percentage_24h'], inplace=True)"
   ]
  },
  {
   "cell_type": "code",
   "execution_count": null,
   "metadata": {},
   "outputs": [],
   "source": [
    "coins_lista=df[\"id\"].tolist()\n",
    "\n"
   ]
  },
  {
   "cell_type": "code",
   "execution_count": null,
   "metadata": {},
   "outputs": [],
   "source": [
    "#con esta funcion obtengo una lista con el precio de una crypto por dia en el lapso de un año\n",
    "#la idea seria ver que tanto varia el precio a lo largo de un año y de eso armar un numero que signifique la volatilidad\n",
    "#de esa crypto moneda como una variable importante para determinar que cryptomonedas son mas estables que otras\n",
    "\n",
    "def get_df_volatility_by_crypto(coins_lista):\n",
    "    \n",
    "    volatility_by_crypto = []\n",
    "\n",
    "    #obtengo precio por dia de cada crypto durante un año\n",
    "    for coin_id in coins_lista:\n",
    "\n",
    "        price_per_day=[]\n",
    "        \n",
    "        #llamo la funcion de coingecko para obtener datos de la crypto\n",
    "        row=cg.get_coin_market_chart_by_id(id= coin_id, vs_currency = 'usd', days ='365', interval='daily', precision='5')\n",
    "        \n",
    "        #solo obtengo los precios diarios de la crypto\n",
    "        for i in range(len(row['prices'])):\n",
    "            price_per_day.append(row['prices'][i][1])\n",
    "            \n",
    "            \n",
    "        #calculo la volatilidad de la crypto en relacion a su desviacion estandard\n",
    "        volatility=np.std(price_per_day)\n",
    "        volatility_by_crypto.append({\n",
    "            \"id\":coin_id,\n",
    "            \"volatilidad\":volatility \n",
    "        })\n",
    "\n",
    "    volatility_by_crypto=pd.DataFrame(volatility_by_crypto)\n",
    "\n",
    "    #estandarizo cada valor para que tenga sentido hacer comparaciones, ya que cada valor sin ser estandarizado esta afectado \n",
    "    #por la diferencia de precios entre cada crypto\n",
    "    volatility_by_crypto[\"volatilidad_estandarizada\"] = (volatility_by_crypto[\"volatilidad\"] - volatility_by_crypto[\"volatilidad\"].mean()) / volatility_by_crypto[\"volatilidad\"].std()\n",
    "    return volatility_by_crypto\n",
    "\n"
   ]
  },
  {
   "cell_type": "code",
   "execution_count": null,
   "metadata": {},
   "outputs": [],
   "source": [
    "result=get_df_volatility_by_crypto(coins_lista)\n",
    "result"
   ]
  },
  {
   "cell_type": "code",
   "execution_count": null,
   "metadata": {},
   "outputs": [],
   "source": [
    "result"
   ]
  },
  {
   "cell_type": "markdown",
   "metadata": {},
   "source": [
    "# Clasificación de las variables\n",
    "\n",
    "### cuantitativos\n",
    "* discretos = enteros\n",
    "* continuos = se divide infinitamente\n",
    "\n",
    "### cualitativos\n",
    "* categoricos = de una categoria o clase especifica\n",
    "* ordinales = de categoria en la que IMPORTA un orden o jerarquía\n",
    "\n",
    "### Categoricas \n",
    "\n",
    "* id\n",
    "* symbol\n",
    "* name\n",
    "\n",
    "### Discretas\n",
    "* Ninguna\n",
    "\n",
    "### Continuas  \n",
    "\n",
    "* current_price \n",
    "* market_cap \n",
    "* fully_diluted_valuation --> si todas las monedas de una crypto estuvieran en circulacion, es para saber el potencial de una moneda con su valor actual\n",
    "* total_volume \n",
    "* high_24h \n",
    "* low_24h\n",
    "* circulating_supply\n",
    "* total_supply\n",
    "* max_supply\n",
    "* ath\n",
    "* ath_change_percentage\n",
    "* atl\n",
    "* atl_change_percentage\n",
    "* ath_date\n",
    "* atl_date\n",
    "* roi\n",
    "* price_change_24h\n",
    "* price_change_percentage_24h\n",
    "* market_cap_change_24h\n",
    "* market_cap_change_percentage_24h\n",
    "\n",
    "### Ordinales \n",
    "\n",
    "* market_cap_rank\n",
    "\n",
    "## Conclusión\n",
    "\n",
    "No hay variables discretas en mi opinion ya que si bien variables como circulating supply usualmente se refiere a una cantidad espcífica de monedas en circulación, cualquier moneda puede ser separada en partes más pequeñas de forma infinita, hence, es una variable continua.\n",
    "\n",
    "La gran mayoría de variables son continuas ya que se trata de dinero o cryptos que, como ya dije, pueden dividirse infinitamente.\n",
    "\n",
    "Cabe recalcar la importancia de la variable ordinal \"market_cap_rank\" ya que juega un papel muy importante en el mundo de las cryptos aquellas rankeadas en lo alto. Esto se debe a que ganan mayor fama y reconocimiento. Esta fama es incluso mayor si se trata de una crypto que logra mantenerse durante largos periodos de tiempo (años) en dicho ranking. Por ejemplo bitcoin, ethereum, usdt, etc.\n",
    "\n",
    "\n"
   ]
  },
  {
   "cell_type": "code",
   "execution_count": null,
   "metadata": {},
   "outputs": [],
   "source": [
    "\n",
    "df.columns.tolist()"
   ]
  },
  {
   "cell_type": "code",
   "execution_count": null,
   "metadata": {},
   "outputs": [],
   "source": [
    "#considero que para poder continuar, debo poner el tipo de dato que corresponde a cada columna\n",
    "\n",
    "strings= [\"id\", \"symbol\", \"name\"]\n",
    "floats=['current_price',\n",
    " 'market_cap',\n",
    " 'fully_diluted_valuation',\n",
    " 'total_volume',\n",
    " 'circulating_supply',\n",
    " 'total_supply',\n",
    " 'max_supply',\n",
    " 'ath',\n",
    " 'ath_change_percentage',\n",
    " 'atl',\n",
    " 'atl_change_percentage']\n",
    "\n",
    "for i in strings:\n",
    "    df[i].fillna(0)\n",
    "    df[i] = df[i].astype(\"string\")\n",
    "\n",
    "for i in floats:\n",
    "    df[i].replace('None', pd.NA, inplace=True)\n",
    "    df[i].fillna(0, inplace=True)\n",
    "    df[i] = df[i].astype(\"float\")\n",
    "\n",
    "df[\"market_cap_rank\"] = df[\"market_cap_rank\"].astype(\"int\")\n",
    "\n",
    "df.dtypes"
   ]
  },
  {
   "cell_type": "markdown",
   "metadata": {},
   "source": [
    "# Como quiero plantear este EDA\n",
    "\n",
    "Mi objetivo en este EDA es obtener insights sobre las 10 mejores criptomonedas como potencial inversion para clientes de una empresa.\n",
    "\n",
    "Este analisis exploratorio de los datos va a estar dividido en dos partes:\n",
    "\n",
    "* Análisis de Bitcoin y sus altcoins (altcoins = aquellas criptomonedas que no son Bitcoin)\n",
    "\n",
    "* Análisis de stable coins (aquellas criptomonedas que tienen su valor anclado al dólar)\n",
    "\n",
    "Este acercamiento se debe a que por un lado el comportamiento de las altcoins es muy diferente al de las stablecoins. Lo que quiero lograr es marcar una diferencia entre aquellas criptos que son más riesgosas pero mucho más volátiles y aquellas que son estables pero que no van a suponer un retorno alto."
   ]
  },
  {
   "cell_type": "code",
   "execution_count": null,
   "metadata": {},
   "outputs": [],
   "source": [
    "#divido mi dataframe en stablecoins y criptomonedas\n",
    "\n",
    "df_stablecoins = df[(df[\"current_price\"] > 0.99) & (df[\"current_price\"] < 1)]\n",
    "\n",
    "df_altcoins_and_btc = df[~((df[\"current_price\"] >= 0.99) & (df[\"current_price\"] <= 1))] #usar ~ para negar una condicion \n",
    "                                                                                #se hace con Alt Gr + (boton de asterisco al lado del enter)\n",
    "\n",
    "\n",
    "df_altcoins_and_btc\n"
   ]
  },
  {
   "cell_type": "code",
   "execution_count": null,
   "metadata": {},
   "outputs": [],
   "source": [
    "df.describe()\n",
    "#busco informacón relevante que me ayude a comenzar a filtrar ciertas criptomonedas"
   ]
  },
  {
   "cell_type": "code",
   "execution_count": null,
   "metadata": {},
   "outputs": [],
   "source": [
    "#df.drop(df[df['name'] == 'Bitcoin'].index, inplace=True)\n",
    "#df.drop(df[df['name'] == 'Ethereum'].index, inplace=True)\n",
    "\n",
    "\n",
    "#Plot histograms of numerical data\n",
    "%matplotlib inline\n",
    "import matplotlib.pyplot as plt\n",
    "df.hist(bins = 50, figsize = (20,15))\n",
    "plt.show"
   ]
  },
  {
   "cell_type": "code",
   "execution_count": null,
   "metadata": {},
   "outputs": [],
   "source": []
  }
 ],
 "metadata": {
  "kernelspec": {
   "display_name": "Python 3",
   "language": "python",
   "name": "python3"
  },
  "language_info": {
   "codemirror_mode": {
    "name": "ipython",
    "version": 3
   },
   "file_extension": ".py",
   "mimetype": "text/x-python",
   "name": "python",
   "nbconvert_exporter": "python",
   "pygments_lexer": "ipython3",
   "version": "3.11.3"
  },
  "orig_nbformat": 4
 },
 "nbformat": 4,
 "nbformat_minor": 2
}
