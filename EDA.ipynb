{
 "cells": [
  {
   "cell_type": "code",
   "execution_count": null,
   "metadata": {},
   "outputs": [],
   "source": [
    "import json\n",
    "import pandas as pd\n",
    "df = pd.read_json(r'dataset\\response_1692132599095.json', dtype='unicode')"
   ]
  },
  {
   "cell_type": "code",
   "execution_count": null,
   "metadata": {},
   "outputs": [],
   "source": [
    "\n",
    "#considero que no voy a utilizar estas columnas:\n",
    "df.drop(columns=['image','last_updated'], inplace=True)"
   ]
  },
  {
   "cell_type": "markdown",
   "metadata": {},
   "source": [
    "# Clasificación de las variables\n",
    "\n",
    "### cuantitativos\n",
    "* discretos = enteros\n",
    "* continuos = se divide infinitamente\n",
    "\n",
    "### cualitativos\n",
    "* categoricos = de una categoria o clase especifica\n",
    "* ordinales = de categoria en la que IMPORTA un orden o jerarquía\n",
    "\n",
    "### Categoricas \n",
    "\n",
    "* id\n",
    "* symbol\n",
    "* name\n",
    "\n",
    "### Discretas\n",
    "* Ninguna\n",
    "\n",
    "### Continuas  \n",
    "\n",
    "* current_price \n",
    "* market_cap \n",
    "* fully_diluted_valuation --> si todas las monedas de una crypto estuvieran en circulacion, es para saber el potencial de una moneda con su valor actual\n",
    "* total_volume \n",
    "* high_24h \n",
    "* low_24h\n",
    "* circulating_supply\n",
    "* total_supply\n",
    "* max_supply\n",
    "* ath\n",
    "* ath_change_percentage\n",
    "* atl\n",
    "* atl_change_percentage\n",
    "* ath_date\n",
    "* atl_date\n",
    "* roi\n",
    "* price_change_24h\n",
    "* price_change_percentage_24h\n",
    "* market_cap_change_24h\n",
    "* market_cap_change_percentage_24h\n",
    "\n",
    "### Ordinales \n",
    "\n",
    "* market_cap_rank\n",
    "\n",
    "\n",
    "\n",
    "\n"
   ]
  },
  {
   "cell_type": "code",
   "execution_count": null,
   "metadata": {},
   "outputs": [],
   "source": [
    "\n",
    "df.columns.tolist()\n",
    "\n",
    "#fully_diluted_valuation = \n",
    "\n"
   ]
  },
  {
   "cell_type": "code",
   "execution_count": null,
   "metadata": {},
   "outputs": [],
   "source": []
  }
 ],
 "metadata": {
  "kernelspec": {
   "display_name": "Python 3",
   "language": "python",
   "name": "python3"
  },
  "language_info": {
   "codemirror_mode": {
    "name": "ipython",
    "version": 3
   },
   "file_extension": ".py",
   "mimetype": "text/x-python",
   "name": "python",
   "nbconvert_exporter": "python",
   "pygments_lexer": "ipython3",
   "version": "3.11.3"
  },
  "orig_nbformat": 4
 },
 "nbformat": 4,
 "nbformat_minor": 2
}
